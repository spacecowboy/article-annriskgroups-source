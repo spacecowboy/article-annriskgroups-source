{
 "metadata": {
  "name": "",
  "signature": "sha256:eba56a9cc8bbce300f42975750ae7f002ba55c7a9bb4cd49637f7323409d45e5"
 },
 "nbformat": 3,
 "nbformat_minor": 0,
 "worksheets": [
  {
   "cells": [
    {
     "cell_type": "code",
     "collapsed": false,
     "input": [
      "# import stuffs\n",
      "%matplotlib inline\n",
      "import numpy as np\n",
      "import pandas as pd\n",
      "from pyplotthemes import get_savefig, classictheme as plt\n",
      "plt.latex = True"
     ],
     "language": "python",
     "metadata": {},
     "outputs": [],
     "prompt_number": 1
    },
    {
     "cell_type": "code",
     "collapsed": false,
     "input": [
      "from datasets import get_nwtco, get_colon, get_lung, get_pbc, get_flchain\n",
      "\n",
      "d = get_lung(prints=True, norm_in=True, norm_out=False, training=True)\n",
      "d = d.astype(float)\n",
      "\n",
      "durcol = d.columns[0]\n",
      "eventcol = d.columns[1]\n",
      "\n",
      "if np.any(d[durcol] < 0):\n",
      "    raise ValueError(\"Negative times encountered\")\n",
      "\n",
      "print(\"End time:\", d.iloc[:, 0].max())\n",
      "#d"
     ],
     "language": "python",
     "metadata": {},
     "outputs": [
      {
       "output_type": "stream",
       "stream": "stdout",
       "text": [
        "Input columns were normalized\n",
        "Shape from (228, 9) to (171, 9)\n",
        "Censored count: 47.0 / 171  = 27.49%\n",
        "Final columns: ['time', 'status', 'age', 'sex', 'ph.ecog', 'ph.karno', 'pat.karno', 'meal.cal', 'wt.loss']\n",
        "End time: 1010.0\n"
       ]
      }
     ],
     "prompt_number": 2
    },
    {
     "cell_type": "code",
     "collapsed": false,
     "input": [
      "import ann\n",
      "from classensemble import ClassEnsemble\n",
      "\n",
      "\n",
      "def get_net(rows, incols, func=ann.geneticnetwork.FITNESS_SURV_KAPLAN_MIN, mingroup=None,\n",
      "            popsize=100, generations=200, mutchance=0.15, mutstd=1.0, muthalf=0, conchance=0,\n",
      "            crossover=ann.geneticnetwork.CROSSOVER_UNIFORM, crosschance=1.0,\n",
      "            selection=ann.geneticnetwork.SELECTION_TOURNAMENT,\n",
      "            architecture=None):\n",
      "    outcount = 2\n",
      "    \n",
      "    if architecture is None:\n",
      "        architecture = [0]\n",
      "    \n",
      "    hidden_count = np.sum(architecture)\n",
      "    \n",
      "    l = incols + hidden_count + outcount + 1\n",
      "    net = ann.geneticnetwork(incols, hidden_count, outcount)\n",
      "    net.fitness_function = func\n",
      "    \n",
      "    if mingroup is None:\n",
      "        mingroup = int(0.25 * rows)\n",
      "    \n",
      "    # Be explicit here even though I changed the defaults\n",
      "    net.connection_mutation_chance = conchance\n",
      "    net.activation_mutation_chance = 0\n",
      "    # Some other values\n",
      "    net.crossover_method = crossover\n",
      "    net.crossover_chance = crosschance\n",
      "    net.selection_method = selection\n",
      "    net.population_size = popsize\n",
      "    net.generations = generations\n",
      "    net.weight_mutation_chance = mutchance\n",
      "    net.weight_mutation_factor = mutstd\n",
      "    net.weight_mutation_halfpoint = muthalf\n",
      "\n",
      "\n",
      "    ann.utils.connect_feedforward(net, architecture, hidden_act=net.TANH, out_act=net.SOFTMAX)\n",
      "    #c = net.connections.reshape((l, l))\n",
      "    #c[-outcount:, :(incols + hidden_count)] = 1\n",
      "    #net.connections = c.ravel()\n",
      "    \n",
      "    return net\n",
      "\n",
      "def _netgen(df, netcount, funcs=None, **kwargs):\n",
      "    # Expects (function, mingroup)\n",
      "    if funcs is None:\n",
      "        funcs = [ann.geneticnetwork.FITNESS_SURV_KAPLAN_MIN,\n",
      "                 ann.geneticnetwork.FITNESS_SURV_KAPLAN_MAX]\n",
      "        \n",
      "    rows = df.shape[0]\n",
      "    incols = df.shape[1] - 2\n",
      "    hnets = []\n",
      "    lnets = []\n",
      "\n",
      "    for i in range(netcount):\n",
      "        if i % 2:\n",
      "            n = get_net(rows, incols, funcs[0], **kwargs)\n",
      "            hnets.append(n)\n",
      "        else:\n",
      "            n = get_net(rows, incols, funcs[1], **kwargs)\n",
      "            lnets.append(n)\n",
      "    \n",
      "    return hnets, lnets\n",
      "\n",
      "def _kanngen(df, netcount, **kwargs):\n",
      "    return _netgen(df, netcount, **kwargs)\n",
      "\n",
      "def _riskgen(df, netcount, **kwargs):\n",
      "    return _netgen(df, netcount,\n",
      "                   [ann.geneticnetwork.FITNESS_SURV_RISKGROUP_HIGH,\n",
      "                    ann.geneticnetwork.FITNESS_SURV_RISKGROUP_LOW],\n",
      "                   **kwargs)\n",
      "\n",
      "def get_kanngen(netcount, **kwargs):\n",
      "    return lambda df: _kanngen(df, netcount, **kwargs)\n",
      "#e = ClassEnsemble(netgen=netgen)\n",
      "#er = ClassEnsemble(netgen=riskgen)\n",
      "\n",
      "class NetFitter(object):\n",
      "    def __init__(self, func=ann.geneticnetwork.FITNESS_SURV_KAPLAN_MIN, **kwargs):\n",
      "        self.kwargs = kwargs\n",
      "        self.func = func\n",
      "        \n",
      "    def fit(self, df, duration_col, event_col):\n",
      "        '''\n",
      "        Same as learn, but instead conforms to the interface defined by\n",
      "        Lifelines and accepts a data frame as the data. Also generates\n",
      "        new networks using self.netgen is it was defined.\n",
      "        '''\n",
      "        #print(\"dataframe shit\", df is None, df.shape)\n",
      "        dsafe = df.copy()\n",
      "        rows = df.shape[0]\n",
      "        incols = df.shape[1] - 2\n",
      "        #print(\"Getting net...\")\n",
      "        self.net = get_net(rows, incols, self.func, **self.kwargs)\n",
      "        # Save columns for prediction later\n",
      "        self.x_cols = df.columns - [duration_col, event_col]\n",
      "        #print(\"Learning on:\", df.shape)\n",
      "        #print(\"Conn chance:\", self.net.connection_mutation_chance)\n",
      "        #print(\"Connsbefore\", self.net.connections.reshape((15, 15)))\n",
      "        self.net.learn(np.array(df[self.x_cols]),\n",
      "                       np.array(df[[duration_col, event_col]]))\n",
      "        #print(\"Conns after\", self.net.connections)\n",
      "        #print(\"Weights after\", self.net.weights)\n",
      "        #print(\"After learning:\", df.shape)\n",
      "        \n",
      "    def get_log(self, df):\n",
      "        '''\n",
      "        Returns a truncated training log\n",
      "        '''\n",
      "        return pd.Series(self.net.log[:, 0])\n",
      "    \n",
      "    def predict_classes(self, df):\n",
      "        '''\n",
      "        Predict the classes of an entire DateFrame.\n",
      "\n",
      "        Returns a DataFrame.\n",
      "        '''\n",
      "        labels = []\n",
      "\n",
      "        for idx, tin in enumerate(df[self.x_cols].values):\n",
      "            res = self.net.predict_class(tin)\n",
      "            if res == 0 and self.func == ann.geneticnetwork.FITNESS_SURV_KAPLAN_MIN:\n",
      "                labels.append('high')\n",
      "            elif res == 0:\n",
      "                labels.append('low')\n",
      "            else:\n",
      "                labels.append('mid')\n",
      "        retval = pd.DataFrame(index=df.index, columns=['group'])\n",
      "        retval.iloc[:, 0] = labels\n",
      "        return retval\n",
      "    \n",
      "net = get_net(2, 2)"
     ],
     "language": "python",
     "metadata": {},
     "outputs": [],
     "prompt_number": 3
    },
    {
     "cell_type": "code",
     "collapsed": false,
     "input": [
      "from stats import k_fold_cross_validation\n",
      "from lifelines.estimation import KaplanMeierFitter, median_survival_times\n",
      "\n",
      "\n",
      "def score(T_actual, labels, E_actual):\n",
      "    '''\n",
      "    Return a score based on grouping\n",
      "    '''\n",
      "    scores = []\n",
      "    labels = labels.ravel()\n",
      "    for g in ['high', 'mid', 'low']:\n",
      "        members = labels == g\n",
      "        \n",
      "        if np.sum(members) > 0:\n",
      "            kmf = KaplanMeierFitter()\n",
      "            kmf.fit(T_actual[members],\n",
      "                    E_actual[members],\n",
      "                    label='{}'.format(g))\n",
      "            \n",
      "            # Last survival time\n",
      "            if np.sum(E_actual[members]) > 0:\n",
      "                lasttime = np.max(T_actual[members][E_actual[members] == 1])\n",
      "            else:\n",
      "                lasttime = np.nan\n",
      "        \n",
      "            # End survival rate, median survival time, member count, last event\n",
      "            subscore = (kmf.survival_function_.iloc[-1, 0],\n",
      "                        median_survival_times(kmf.survival_function_),\n",
      "                        np.sum(members),\n",
      "                        lasttime)\n",
      "        else:\n",
      "            # Rpart might fail in this respect\n",
      "            subscore = (np.nan, np.nan, np.sum(members), np.nan)\n",
      "            \n",
      "        scores.append(subscore)\n",
      "    return scores\n",
      "\n",
      "# Use to get training data score\n",
      "def logscore(T_actual, log, E_actual):\n",
      "    # Return last value in the log\n",
      "    return log[-1]\n",
      "\n",
      "# Use for validation\n",
      "def high_median_time(T_actual, labels, E_actual):\n",
      "    members = (labels == 'high').ravel()\n",
      "    if np.sum(members) > 0:\n",
      "        kmf = KaplanMeierFitter()\n",
      "        kmf.fit(T_actual[members],\n",
      "                E_actual[members])\n",
      "        return median_survival_times(kmf.survival_function_)\n",
      "    else:\n",
      "        return np.nan\n",
      "    "
     ],
     "language": "python",
     "metadata": {},
     "outputs": [],
     "prompt_number": 4
    },
    {
     "cell_type": "markdown",
     "metadata": {},
     "source": [
      "# Compare stuff"
     ]
    },
    {
     "cell_type": "code",
     "collapsed": false,
     "input": [
      "default_values = dict(popsize=200,\n",
      "                      generations=300,\n",
      "                      conchance=0.0,\n",
      "                      mutchance=1.0,\n",
      "                      mutstd=0.5,\n",
      "                      muthalf=0,\n",
      "                      crosschance=0.75,\n",
      "                      crossover=ann.geneticnetwork.CROSSOVER_UNIFORM,\n",
      "                      selection=ann.geneticnetwork.SELECTION_GEOMETRIC,\n",
      "                      architecture=[0])\n",
      "possible_values = dict(\n",
      "                       popsize=[25, 50, 100, 200, 300],\n",
      "                       #generations=[1, 10, 50, 100, 500],\n",
      "                       #conchance=[0, 0.01, 0.05, 0.1, 0.25, 0.5, 1.0],\n",
      "                       mutchance=[0.15, 0.30, 0.6, 0.9],\n",
      "                       mutstd=[0.5, 1.0, 2.0, 3.0],\n",
      "                       crosschance=[0.25, 0.5, 0.75, 1.0],\n",
      "                       crossover=[ann.geneticnetwork.CROSSOVER_UNIFORM,\n",
      "                                  ann.geneticnetwork.CROSSOVER_ONEPOINT,\n",
      "                                  ann.geneticnetwork.CROSSOVER_TWOPOINT],\n",
      "                       selection=[ann.geneticnetwork.SELECTION_TOURNAMENT,\n",
      "                                  ann.geneticnetwork.SELECTION_GEOMETRIC,\n",
      "                                  ann.geneticnetwork.SELECTION_ROULETTE],\n",
      "                       architecture=[[0],\n",
      "                                    [4],\n",
      "                                    [4, 4]])\n",
      "\n",
      "# Update values as we go along\n",
      "try:\n",
      "    current_values\n",
      "except NameError:\n",
      "    current_values = default_values.copy()\n",
      "\n",
      "print(current_values)"
     ],
     "language": "python",
     "metadata": {},
     "outputs": [
      {
       "output_type": "stream",
       "stream": "stdout",
       "text": [
        "{'crossover': 0, 'mutchance': 1.0, 'generations': 300, 'crosschance': 0.75, 'selection': 0, 'muthalf': 0, 'conchance': 0.0, 'popsize': 200, 'architecture': [0], 'mutstd': 0.5}\n"
       ]
      }
     ],
     "prompt_number": 5
    },
    {
     "cell_type": "code",
     "collapsed": false,
     "input": [
      "def get_winning_value(values, repeat_results, current_val):\n",
      "    winner = 0, 0\n",
      "    for i, x in enumerate(values):\n",
      "        mres = np.median(np.array(repeat_results)[:, i, :])\n",
      "        # For stability\n",
      "        if mres > winner[0] or (x == current_val and mres >= winner[0]):\n",
      "            winner = mres, x\n",
      "    return winner[1]"
     ],
     "language": "python",
     "metadata": {},
     "outputs": [],
     "prompt_number": 6
    },
    {
     "cell_type": "code",
     "collapsed": false,
     "input": [
      "print(\"Starting values\")\n",
      "for k, v in current_values.items():\n",
      "    print(\"  \", k, \"=\", v)\n",
      "\n",
      "# Repeat all variables\n",
      "n = 10\n",
      "k = 2\n",
      "repcount = 0\n",
      "stable = False\n",
      "while repcount < 10 and not stable:\n",
      "    repcount += 1\n",
      "    print(repcount)\n",
      "    stable = True\n",
      "    for key, values in sorted(possible_values.items()):\n",
      "        print(key)\n",
      "        models = []\n",
      "        for x in values:\n",
      "            kwargs = current_values.copy()\n",
      "            kwargs[key] = x\n",
      "            model = NetFitter(func=ann.geneticnetwork.FITNESS_SURV_KAPLAN_MIN, \n",
      "                          **kwargs)\n",
      "            model.var_label = key\n",
      "            model.var_value = x\n",
      "            models.append(model)\n",
      "        # Train and test\n",
      "        repeat_results = []\n",
      "        for rep in range(n):\n",
      "            result = k_fold_cross_validation(models, d, durcol, eventcol, \n",
      "                                             k=k, \n",
      "                                             evaluation_measure=logscore, \n",
      "                                             predictor='get_log')\n",
      "            repeat_results.append(result)\n",
      "        # See who won\n",
      "        winval = get_winning_value(values, repeat_results, current_values[key])\n",
      "        if winval != current_values[key]:\n",
      "            stable = False\n",
      "            print(key, current_values[key], \"->\", winval)\n",
      "            current_values[key] = winval\n",
      "\n",
      "print(\"\\nValues optimized after\", repcount, \"iterations\")\n",
      "for k, v in current_values.items():\n",
      "    print(\"  \", k, \"=\", v)"
     ],
     "language": "python",
     "metadata": {},
     "outputs": [
      {
       "output_type": "stream",
       "stream": "stdout",
       "text": [
        "Starting values\n",
        "   crossover = 0\n",
        "   mutchance = 1.0\n",
        "   generations = 300\n",
        "   crosschance = 0.75\n",
        "   selection = 0\n",
        "   muthalf = 0\n",
        "   conchance = 0.0\n",
        "   popsize = 200\n",
        "   architecture = [0]\n",
        "   mutstd = 0.5\n",
        "1\n",
        "architecture\n",
        "architecture"
       ]
      }
     ]
    },
    {
     "cell_type": "code",
     "collapsed": false,
     "input": [
      "# Just print results from above\n",
      "print(\"\\nValues optimized after\", repcount, \"iterations\")\n",
      "for k, v in current_values.items():\n",
      "    if k == 'selection':\n",
      "        if v == ann.geneticnetwork.SELECTION_GEOMETRIC:\n",
      "            name = 'geometric'\n",
      "        elif v == ann.geneticnetwork.SELECTION_ROULETTE:\n",
      "            name = 'roulette'\n",
      "        else:\n",
      "            name = 'tournament'\n",
      "    elif k == 'crossover':\n",
      "        if v == ann.geneticnetwork.CROSSOVER_ONEPOINT:\n",
      "            name = 'onepoint'\n",
      "        elif v == ann.geneticnetwork.CROSSOVER_TWOPOINT:\n",
      "            name = 'twopoint'\n",
      "        else:\n",
      "            name = 'uniform'\n",
      "    else:\n",
      "        name = None\n",
      "        \n",
      "    if name is None:\n",
      "        print(\"  \", k, \"=\", v)\n",
      "    else:\n",
      "        print(\"  \", k, \"=\", v, \"({})\".format(name))"
     ],
     "language": "python",
     "metadata": {},
     "outputs": [
      {
       "output_type": "stream",
       "stream": "stdout",
       "text": [
        "\n",
        "Values optimized after 10 iterations\n",
        "   crossover = 2 (twopoint)\n",
        "   mutchance = 0.3\n",
        "   generations = 300\n",
        "   crosschance = 0.75\n",
        "   selection = 0 (geometric)\n",
        "   muthalf = 0\n",
        "   conchance = 0.0\n",
        "   popsize = 100\n",
        "   architecture = [4]\n",
        "   mutstd = 1.0\n"
       ]
      }
     ],
     "prompt_number": 9
    },
    {
     "cell_type": "code",
     "collapsed": false,
     "input": [
      "#netcount = 6\n",
      "models = []\n",
      "# Try different epoch counts\n",
      "for x in [0, 1, 2, 3, 5, 10]:\n",
      "    #e = ClassEnsemble(netgen=get_kanngen(netcount, generations=x))\n",
      "    e = NetFitter(func=ann.geneticnetwork.FITNESS_SURV_KAPLAN_MIN, \n",
      "                  popsize=100, generations=1000, conchance=0, mutchance=1.0,\n",
      "                  mutstd=3.0, muthalf=0, hidden_count=x)\n",
      "    #, mingroup=int(0.25*d.shape[0]))\n",
      "    e.var_label = 'Hidden count'\n",
      "    e.var_value = x\n",
      "    models.append(e)\n"
     ],
     "language": "python",
     "metadata": {},
     "outputs": [],
     "prompt_number": 25
    },
    {
     "cell_type": "code",
     "collapsed": false,
     "input": [
      "n = 10\n",
      "k = 2\n",
      "# Repeated cross-validation\n",
      "repeat_results = []\n",
      "for rep in range(n):\n",
      "    print(\"n =\", rep)\n",
      "    # Training\n",
      "    #result = k_fold_cross_validation(models, d, durcol, eventcol, k=k, evaluation_measure=logscore, predictor='get_log')\n",
      "    # Validation\n",
      "    result = k_fold_cross_validation(models, d, durcol, eventcol, k=k,\n",
      "                                     evaluation_measure=high_median_time,\n",
      "                                     predictor='predict_classes')\n",
      "    repeat_results.append(result)\n",
      "#repeat_results"
     ],
     "language": "python",
     "metadata": {},
     "outputs": [
      {
       "output_type": "stream",
       "stream": "stdout",
       "text": [
        "n = 0\n",
        "n ="
       ]
      },
      {
       "output_type": "stream",
       "stream": "stdout",
       "text": [
        " 1\n",
        "n ="
       ]
      },
      {
       "output_type": "stream",
       "stream": "stdout",
       "text": [
        " 2\n",
        "n ="
       ]
      },
      {
       "output_type": "stream",
       "stream": "stdout",
       "text": [
        " 3\n",
        "n ="
       ]
      },
      {
       "output_type": "stream",
       "stream": "stdout",
       "text": [
        " 4\n",
        "n ="
       ]
      },
      {
       "output_type": "stream",
       "stream": "stdout",
       "text": [
        " 5\n",
        "n ="
       ]
      },
      {
       "output_type": "stream",
       "stream": "stdout",
       "text": [
        " 6\n",
        "n ="
       ]
      },
      {
       "output_type": "stream",
       "stream": "stdout",
       "text": [
        " 7\n",
        "n ="
       ]
      },
      {
       "output_type": "stream",
       "stream": "stdout",
       "text": [
        " 8\n",
        "n ="
       ]
      },
      {
       "output_type": "stream",
       "stream": "stdout",
       "text": [
        " 9\n"
       ]
      }
     ],
     "prompt_number": 26
    },
    {
     "cell_type": "markdown",
     "metadata": {},
     "source": [
      "# Plot results"
     ]
    },
    {
     "cell_type": "code",
     "collapsed": false,
     "input": [
      "def plot_score(repeat_results, models):\n",
      "    boxes = []\n",
      "    labels = []\n",
      "    var_label = None\n",
      "    # Makes no sense for low here for many datasets...\n",
      "    for i, m in enumerate(models):\n",
      "        labels.append(str(m.var_value))\n",
      "        var_label = m.var_label\n",
      "        vals = []\n",
      "        for result in repeat_results:\n",
      "            vals.extend(result[i])\n",
      "        boxes.append(vals)\n",
      "\n",
      "    plt.figure()\n",
      "    plt.boxplot(boxes, labels=labels, vert=False, colors=plt.colors[:len(models)])\n",
      "    plt.ylabel(var_label)\n",
      "    plt.title(\"Cross-validation: n={} k={}\".format(n, k))\n",
      "    plt.xlabel(\"Something..\")\n",
      "    #plt.gca().set_xscale('log')\n",
      "        \n",
      "plot_score(repeat_results, models)"
     ],
     "language": "python",
     "metadata": {},
     "outputs": [
      {
       "metadata": {},
       "output_type": "display_data",
       "png": "[encoded data removed]",
       "text": [
        "<matplotlib.figure.Figure at 0x7f5d98a842e8>"
       ]
      }
     ],
     "prompt_number": 27
    }
   ],
   "metadata": {}
  }
 ]
}