{
 "metadata": {
  "name": "",
  "signature": "sha256:5acca113b48049e93764faac0565147885ebf25c4eac1211ac9bf76399173363"
 },
 "nbformat": 3,
 "nbformat_minor": 0,
 "worksheets": [
  {
   "cells": [
    {
     "cell_type": "code",
     "collapsed": false,
     "input": [
      "# import stuffs\n",
      "%matplotlib inline\n",
      "import numpy as np\n",
      "import pandas as pd\n",
      "from pyplotthemes import get_savefig, classictheme as plt\n",
      "from lifelines.utils import k_fold_cross_validation\n",
      "plt.latex = True"
     ],
     "language": "python",
     "metadata": {},
     "outputs": [],
     "prompt_number": 1
    },
    {
     "cell_type": "code",
     "collapsed": false,
     "input": [
      "from datasets import get_nwtco, get_colon, get_lung, get_pbc, get_flchain\n",
      "\n",
      "# Values of (trn, test)\n",
      "datasets = {}\n",
      "\n",
      "# Add the data sets\n",
      "for name, getter in zip([\"pbc\", \"lung\", \"colon\", \"nwtco\", \"flchain\"],\n",
      "                         [get_pbc, get_lung, get_colon, get_nwtco, get_flchain]):\n",
      "    trn = getter(norm_in=True, norm_out=False, training=True)\n",
      "    datasets[name] = trn\n",
      "    \n",
      "    cens = (trn.iloc[:, 1] == 0)\n",
      "    censcount = np.sum(cens) / trn.shape[0]\n",
      "    print(name, \"censed:\", censcount)"
     ],
     "language": "python",
     "metadata": {},
     "outputs": [
      {
       "output_type": "stream",
       "stream": "stdout",
       "text": [
        "pbc censed: 0.608163265306\n",
        "lung censed: 0.27485380117\n",
        "colon"
       ]
      },
      {
       "output_type": "stream",
       "stream": "stdout",
       "text": [
        " censed: 0.495689655172\n",
        "nwtco"
       ]
      },
      {
       "output_type": "stream",
       "stream": "stdout",
       "text": [
        " censed: 0.857994041708\n",
        "flchain"
       ]
      },
      {
       "output_type": "stream",
       "stream": "stdout",
       "text": [
        " censed: 0.724716245977\n"
       ]
      }
     ],
     "prompt_number": 2
    },
    {
     "cell_type": "markdown",
     "metadata": {},
     "source": [
      "# Cross-validate rpart variables"
     ]
    },
    {
     "cell_type": "code",
     "collapsed": false,
     "input": [
      "from pysurvival.rpart import RPartModel\n",
      "from stats import surv_area\n",
      "from lifelines.estimation import KaplanMeierFitter, median_survival_times\n",
      "\n",
      "\n",
      "def score(T_actual, labels, E_actual):\n",
      "    '''\n",
      "    Return a score based on grouping\n",
      "    '''\n",
      "    scores = []\n",
      "    labels = labels.ravel()\n",
      "    for g in ['high', 'mid', 'low']:\n",
      "        members = labels == g\n",
      "        \n",
      "        if np.sum(members) > 0:\n",
      "            kmf = KaplanMeierFitter()\n",
      "            kmf.fit(T_actual[members],\n",
      "                    E_actual[members],\n",
      "                    label='{}'.format(g))\n",
      "            \n",
      "            # Last survival time\n",
      "            if np.sum(E_actual[members]) > 0:\n",
      "                lasttime = np.max(T_actual[members][E_actual[members] == 1])\n",
      "            else:\n",
      "                lasttime = np.nan\n",
      "        \n",
      "            # End survival rate, median survival time, member count, last event\n",
      "            subscore = (kmf.survival_function_.iloc[-1, 0],\n",
      "                        median_survival_times(kmf.survival_function_),\n",
      "                        np.sum(members),\n",
      "                        lasttime)\n",
      "        else:\n",
      "            # Rpart might fail in this respect\n",
      "            subscore = (np.nan, np.nan, np.sum(members), np.nan)\n",
      "            \n",
      "        scores.append(subscore)\n",
      "    return scores\n",
      "\n",
      "# Use for validation - should this be negative??\n",
      "def high_median_time(T_actual, labels, E_actual):\n",
      "    members = (labels == 'high').ravel()\n",
      "    if np.sum(members) > 0:\n",
      "        kmf = KaplanMeierFitter()\n",
      "        kmf.fit(T_actual[members],\n",
      "                E_actual[members])\n",
      "        return median_survival_times(kmf.survival_function_)\n",
      "    else:\n",
      "        return np.nan\n",
      "    \n",
      "def area(T_actual, labels, E_actual):\n",
      "    mem = (labels == 'high').ravel()\n",
      "    if np.any(mem):\n",
      "        high_area =  surv_area(T_actual[mem], E_actual[mem])\n",
      "    else:\n",
      "        high_area = np.nan\n",
      "    \n",
      "    mem = (labels == 'low').ravel()\n",
      "    if np.any(mem):\n",
      "        low_area =  surv_area(T_actual[mem], E_actual[mem])\n",
      "    else:\n",
      "        low_area = np.nan\n",
      "    \n",
      "    return [low_area, high_area]"
     ],
     "language": "python",
     "metadata": {},
     "outputs": [],
     "prompt_number": 39
    },
    {
     "cell_type": "markdown",
     "metadata": {},
     "source": [
      "# Compare stuff"
     ]
    },
    {
     "cell_type": "code",
     "collapsed": false,
     "input": [
      "default_values = dict(highlim=0.1,\n",
      "   lowlim=0.1,\n",
      "   minsplit=20,\n",
      "   minbucket=None,\n",
      "   xval=3,\n",
      "   cp=0.01)\n",
      "possible_values = dict(cp=[0.01, 0.05, 0.1],\n",
      "                       xval=[0, 3, 5, 7, 10],\n",
      "                       minsplit=[1, 5, 10, 20, 50])\n",
      "\n",
      "# Update values as we go along\n",
      "#try:\n",
      "#    current_values\n",
      "#except NameError:\n",
      "current_values = default_values.copy()\n",
      "\n",
      "print(current_values)"
     ],
     "language": "python",
     "metadata": {},
     "outputs": [
      {
       "output_type": "stream",
       "stream": "stdout",
       "text": [
        "{'highlim': 0.1, 'cp': 0.01, 'minbucket': None, 'xval': 3, 'lowlim': 0.1, 'minsplit': 20}\n"
       ]
      }
     ],
     "prompt_number": 63
    },
    {
     "cell_type": "code",
     "collapsed": false,
     "input": [
      "def get_winning_value(values, repeat_results, current_val):\n",
      "    winner = 0, 0\n",
      "    for i, x in enumerate(values):\n",
      "        mres = np.median(np.array(repeat_results)[:, i, :])\n",
      "        # For stability\n",
      "        if mres > winner[0] or (x == current_val and mres >= winner[0]):\n",
      "            winner = mres, x\n",
      "    return winner[1]"
     ],
     "language": "python",
     "metadata": {},
     "outputs": [],
     "prompt_number": 5
    },
    {
     "cell_type": "code",
     "collapsed": false,
     "input": [
      "d = datasets['colon']\n",
      "durcol = d.columns[0]\n",
      "eventcol = d.columns[1]"
     ],
     "language": "python",
     "metadata": {},
     "outputs": [],
     "prompt_number": 6
    },
    {
     "cell_type": "code",
     "collapsed": false,
     "input": [
      "print(\"Starting values\")\n",
      "for k, v in current_values.items():\n",
      "    print(\"  \", k, \"=\", v)\n",
      "\n",
      "# Repeat all variables\n",
      "n = 1score\n",
      "k = 3\n",
      "repcount = 0\n",
      "stable = False\n",
      "while repcount < 4 and not stable:\n",
      "    repcount += 1\n",
      "    print(repcount)\n",
      "    stable = True\n",
      "    for key, values in sorted(possible_values.items()):\n",
      "        print(key)\n",
      "        models = []\n",
      "        for x in values:\n",
      "            kwargs = current_values.copy()\n",
      "            kwargs[key] = x\n",
      "            model = RPartModel(**kwargs)\n",
      "            model.var_label = key\n",
      "            model.var_value = x\n",
      "            models.append(model)\n",
      "        # Train and test\n",
      "        repeat_results = []\n",
      "        for rep in range(n):\n",
      "            result = k_fold_cross_validation(models, d, durcol, eventcol, \n",
      "                                             k=k, \n",
      "                                             evaluation_measure=high_median_time, \n",
      "                                             predictor='predict_classes')\n",
      "            repeat_results.append(result)\n",
      "        # See who won\n",
      "        winval = get_winning_value(values, repeat_results, current_values[key])\n",
      "        if winval != current_values[key]:\n",
      "            stable = False\n",
      "            print(key, current_values[key], \"->\", winval)\n",
      "            current_values[key] = winval\n",
      "\n",
      "print(\"\\nValues optimized after\", repcount, \"iterations\")\n",
      "for k, v in current_values.items():\n",
      "    print(\"  \", k, \"=\", v)"
     ],
     "language": "python",
     "metadata": {},
     "outputs": [
      {
       "output_type": "stream",
       "stream": "stdout",
       "text": [
        "Starting values\n",
        "   highlim = 0.2\n",
        "   cp = 0.1\n",
        "   minbucket = None\n",
        "   xval = 0\n",
        "   lowlim = 0.2\n",
        "   minsplit = 20\n",
        "1\n",
        "cp\n",
        "cp"
       ]
      },
      {
       "output_type": "stream",
       "stream": "stdout",
       "text": [
        " 0.1 -> 0\n",
        "minsplit\n",
        "minsplit"
       ]
      },
      {
       "output_type": "stream",
       "stream": "stdout",
       "text": [
        " 20 -> 0\n",
        "xval\n",
        "2"
       ]
      },
      {
       "output_type": "stream",
       "stream": "stdout",
       "text": [
        "\n",
        "cp\n",
        "minsplit"
       ]
      },
      {
       "output_type": "stream",
       "stream": "stdout",
       "text": [
        "\n",
        "xval"
       ]
      },
      {
       "output_type": "stream",
       "stream": "stdout",
       "text": [
        "\n",
        "\n",
        "Values optimized after"
       ]
      },
      {
       "output_type": "stream",
       "stream": "stdout",
       "text": [
        " 2 iterations\n",
        "   highlim = 0.2\n",
        "   cp = 0\n",
        "   minbucket = None\n",
        "   xval = 0\n",
        "   lowlim = 0.2\n",
        "   minsplit = 0\n"
       ]
      }
     ],
     "prompt_number": 16
    },
    {
     "cell_type": "code",
     "collapsed": false,
     "input": [
      "# Just print results from above\n",
      "print(\"\\nValues optimized after\", repcount, \"iterations\")\n",
      "for k, v in current_values.items():\n",
      "    print(\"  \", k, \"=\", v)"
     ],
     "language": "python",
     "metadata": {},
     "outputs": [
      {
       "output_type": "stream",
       "stream": "stdout",
       "text": [
        "\n",
        "Values optimized after 2 iterations\n",
        "   highlim = 0.2\n",
        "   cp = 0\n",
        "   minbucket = None\n",
        "   xval = 0\n",
        "   lowlim = 0.2\n",
        "   minsplit = 0\n"
       ]
      }
     ],
     "prompt_number": 17
    },
    {
     "cell_type": "markdown",
     "metadata": {},
     "source": [
      "## Get some plottable results"
     ]
    },
    {
     "cell_type": "code",
     "collapsed": false,
     "input": [
      "#netcount = 6\n",
      "models = []\n",
      "# Try different epoch counts\n",
      "key = 'minsplit'\n",
      "for x in possible_values[key]:\n",
      "    kwargs = current_values.copy()\n",
      "    kwargs[key] = x\n",
      "    e = RPartModel(**kwargs)\n",
      "    e.var_label = key\n",
      "    e.var_value = x\n",
      "    models.append(e)\n"
     ],
     "language": "python",
     "metadata": {},
     "outputs": [],
     "prompt_number": 64
    },
    {
     "cell_type": "code",
     "collapsed": false,
     "input": [
      "n = 10\n",
      "k = 3\n",
      "# Repeated cross-validation\n",
      "repeat_results = []\n",
      "for rep in range(n):\n",
      "    print(\"n =\", rep)\n",
      "    # Training\n",
      "    #result = k_fold_cross_validation(models, d, durcol, eventcol, k=k, evaluation_measure=logscore, predictor='get_log')\n",
      "    # Validation\n",
      "    result = k_fold_cross_validation(models, d, durcol, eventcol, k=k,\n",
      "                                     evaluation_measure=area,\n",
      "                                     predictor='predict_classes')\n",
      "    repeat_results.append(result)\n",
      "#repeat_results"
     ],
     "language": "python",
     "metadata": {},
     "outputs": [
      {
       "output_type": "stream",
       "stream": "stdout",
       "text": [
        "n = 0\n",
        "n ="
       ]
      },
      {
       "output_type": "stream",
       "stream": "stdout",
       "text": [
        " 1\n",
        "n ="
       ]
      },
      {
       "output_type": "stream",
       "stream": "stdout",
       "text": [
        " 2\n",
        "n ="
       ]
      },
      {
       "output_type": "stream",
       "stream": "stdout",
       "text": [
        " 3\n",
        "n ="
       ]
      },
      {
       "output_type": "stream",
       "stream": "stdout",
       "text": [
        " 4\n",
        "n ="
       ]
      },
      {
       "output_type": "stream",
       "stream": "stdout",
       "text": [
        " 5\n",
        "n ="
       ]
      },
      {
       "output_type": "stream",
       "stream": "stdout",
       "text": [
        " 6\n",
        "n ="
       ]
      },
      {
       "output_type": "stream",
       "stream": "stdout",
       "text": [
        " 7\n",
        "n ="
       ]
      },
      {
       "output_type": "stream",
       "stream": "stdout",
       "text": [
        " 8\n",
        "n ="
       ]
      },
      {
       "output_type": "stream",
       "stream": "stdout",
       "text": [
        " 9\n"
       ]
      }
     ],
     "prompt_number": 65
    },
    {
     "cell_type": "markdown",
     "metadata": {},
     "source": [
      "# Plot results"
     ]
    },
    {
     "cell_type": "code",
     "collapsed": false,
     "input": [
      "def plot_score_multiple(repeat_results, models):\n",
      "    boxes = []\n",
      "    labels = []\n",
      "    var_label = None\n",
      "    \n",
      "    for i, m in enumerate(models):\n",
      "        labels.append(str(m.var_value))\n",
      "        var_label = m.var_label\n",
      "        vals = []\n",
      "        for result in repeat_results:\n",
      "            for kscore in result[i]:\n",
      "                vals.append(kscore[1])\n",
      "        boxes.append(vals)\n",
      "\n",
      "    plt.figure()\n",
      "    plt.boxplot(boxes, labels=labels, vert=False, colors=plt.colors[:len(models)])\n",
      "    plt.ylabel(var_label)\n",
      "    plt.title(\"Cross-validation: n={} k={}\".format(n, k))\n",
      "    plt.xlabel(\"Something..\")\n",
      "    #plt.gca().set_xscale('log')\n",
      "        \n",
      "plot_score_multiple(repeat_results, models)"
     ],
     "language": "python",
     "metadata": {},
     "outputs": [
      {
       "metadata": {},
       "output_type": "display_data",
       "png": "[encoded data removed]",
       "text": [
        "<matplotlib.figure.Figure at 0x7f315b2fceb8>"
       ]
      }
     ],
     "prompt_number": 67
    },
    {
     "cell_type": "code",
     "collapsed": false,
     "input": [
      "def plot_score(repeat_results, models):\n",
      "    boxes = []\n",
      "    labels = []\n",
      "    var_label = None\n",
      "    # Makes no sense for low here for many datasets...\n",
      "    for i, m in enumerate(models):\n",
      "        labels.append(str(m.var_value))\n",
      "        var_label = m.var_label\n",
      "        vals = []\n",
      "        for result in repeat_results:\n",
      "            vals.extend(result[i])\n",
      "        boxes.append(vals)\n",
      "\n",
      "    plt.figure()\n",
      "    plt.boxplot(boxes, labels=labels, vert=False, colors=plt.colors[:len(models)])\n",
      "    plt.ylabel(var_label)\n",
      "    plt.title(\"Cross-validation: n={} k={}\".format(n, k))\n",
      "    plt.xlabel(\"Median survival time (max={:.0f})\".format(d[durcol].max()))\n",
      "    #plt.gca().set_xscale('log')\n",
      "        \n",
      "plot_score(repeat_results, models)"
     ],
     "language": "python",
     "metadata": {},
     "outputs": [
      {
       "metadata": {},
       "output_type": "display_data",
       "png": "[encoded data removed]",
       "text": [
        "<matplotlib.figure.Figure at 0x7f3168adb2b0>"
       ]
      }
     ],
     "prompt_number": 14
    },
    {
     "cell_type": "code",
     "collapsed": false,
     "input": [],
     "language": "python",
     "metadata": {},
     "outputs": []
    }
   ],
   "metadata": {}
  }
 ]
}