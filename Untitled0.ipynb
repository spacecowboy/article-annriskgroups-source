{
 "metadata": {
  "name": "",
  "signature": "sha256:9c29744cdb96e779d740cf6acb90353440826f37cdb76bf806cacafe42e39914"
 },
 "nbformat": 3,
 "nbformat_minor": 0,
 "worksheets": [
  {
   "cells": [
    {
     "cell_type": "code",
     "collapsed": false,
     "input": [
      "from datasets import *\n",
      "import pandas as pd\n",
      "import numpy as np\n",
      "\n",
      "#print(_pbc)\n",
      "#get_flchain()\n",
      "d = get_pbc(norm_in=True)\n",
      "#d = get_data(prints=True, norm_in=False, norm_out=False, **_colon)\n",
      "#d = pd.read_csv(_pbc['filename'], sep=None, engine='python')\n",
      "\n",
      "#d.reindex(d.loc[d['etype'] == 1].index)\n",
      "\n",
      "#d.loc[d['status'] < 2, 'status'] = 0\n",
      "#d.loc[d['status'] == 2, 'status'] = 1\n",
      "#d\n",
      "#d.reindex(np.arange(312))\n",
      "\n",
      "#d\n",
      "#d = get_mayo(prints=True, norm_in=True, norm_out=False)\n",
      "\n",
      "#durcol = d.columns[0]\n",
      "#eventcol = d.columns[1]\n",
      "\n",
      "#if np.any(d[durcol] < 0):\n",
      "#    raise ValueError(\"Negative times encountered\")\n",
      "\n",
      "#print(\"End time:\", d.iloc[:, 0].max())\n",
      "#d"
     ],
     "language": "python",
     "metadata": {},
     "outputs": [],
     "prompt_number": 1
    },
    {
     "cell_type": "code",
     "collapsed": false,
     "input": [
      "a = pd.Series(np.array(['bob', 'schumckig']))\n",
      "a.astype(str) == a"
     ],
     "language": "python",
     "metadata": {},
     "outputs": [
      {
       "metadata": {},
       "output_type": "pyout",
       "prompt_number": 2,
       "text": [
        "0    True\n",
        "1    True\n",
        "dtype: bool"
       ]
      }
     ],
     "prompt_number": 2
    },
    {
     "cell_type": "code",
     "collapsed": false,
     "input": [],
     "language": "python",
     "metadata": {},
     "outputs": []
    },
    {
     "cell_type": "code",
     "collapsed": false,
     "input": [
      "from lifelines.utils import group_survival_table_from_events\n",
      "import ann\n",
      "\n",
      "\n",
      "def surv_area(durations, events=None, absolute=False):\n",
      "    '''\n",
      "    Parameters:\n",
      "    durations - array of event times (must be greater than zero)\n",
      "    events - array of event indicators (1/True for event, 0/False for censored)\n",
      "    absolute - if True, returns the actual area. Otherwise, a relative value between\n",
      "               0 and 1.\n",
      "               \n",
      "    Returns:\n",
      "    area - The area under the survival curve\n",
      "    '''\n",
      "    if events is None:\n",
      "        events = np.ones_like(durations, dtype=bool)\n",
      "    \n",
      "    events = events.astype(bool)\n",
      "\n",
      "    # Unique event times\n",
      "    TU = np.sort(np.unique(durations[events]))\n",
      "\n",
      "    # Starting values\n",
      "    S = 1.0\n",
      "    A = 0.0\n",
      "    p = 0\n",
      "    for t in TU:\n",
      "        # Add box to area\n",
      "        A += S * (t - p)\n",
      "    \n",
      "        # People at risk\n",
      "        R = np.sum(durations >= t)\n",
      "        # Deaths between previous and now\n",
      "        deaths = np.sum(durations[events] == t)\n",
      "    \n",
      "        # Update survival\n",
      "        S *= (R - deaths) / R\n",
      "        p = t\n",
      "    \n",
      "    # If we have censored beyond last event\n",
      "    A += S * (np.max(durations) - p)\n",
      "    \n",
      "    if not absolute:\n",
      "        A /= np.max(durations)\n",
      "        \n",
      "    return A\n",
      "        \n",
      "T = d.iloc[:, 0].values\n",
      "E = d.iloc[:, 1].values\n",
      "\n",
      "surv_area(T, E)"
     ],
     "language": "python",
     "metadata": {},
     "outputs": [
      {
       "metadata": {},
       "output_type": "pyout",
       "prompt_number": 3,
       "text": [
        "0.6526802396871666"
       ]
      }
     ],
     "prompt_number": 3
    },
    {
     "cell_type": "code",
     "collapsed": false,
     "input": [
      "%matplotlib inline\n",
      "from lifelines.estimation import KaplanMeierFitter\n",
      "\n",
      "kmf = KaplanMeierFitter()\n",
      "\n",
      "kmf.fit(T, E)\n",
      "kmf.plot()\n",
      "#kmf.survival_function_"
     ],
     "language": "python",
     "metadata": {},
     "outputs": [
      {
       "metadata": {},
       "output_type": "pyout",
       "prompt_number": 4,
       "text": [
        "<matplotlib.axes._subplots.AxesSubplot at 0x7fd79e7a9a20>"
       ]
      },
      {
       "metadata": {},
       "output_type": "display_data",
       "png": "[encoded data removed]",
       "text": [
        "<matplotlib.figure.Figure at 0x7fd79bc5ae80>"
       ]
      }
     ],
     "prompt_number": 4
    }
   ],
   "metadata": {}
  }
 ]
}